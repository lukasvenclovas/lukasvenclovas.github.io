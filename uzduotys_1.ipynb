{
 "cells": [
  {
   "cell_type": "markdown",
   "metadata": {},
   "source": [
    "# Atsiskaitymas 1 dalis\n",
    "\n",
    "### 1 užduotis\n",
    "\n",
    "Parašykite programą, kuri paprašytų vartotojo įvesti savo vardą ir atspausdintų pasveikinimą.\n",
    "\n"
   ]
  },
  {
   "cell_type": "code",
   "execution_count": 1,
   "metadata": {},
   "outputs": [
    {
     "name": "stdout",
     "output_type": "stream",
     "text": [
      "Laba diena, Dovydai. Kaip Jus laikotes?\n"
     ]
    }
   ],
   "source": [
    "vardas = input(\"Iveskite savo varda: \")\n",
    "pasisveikinimas = (f'Laba diena, {vardas}. Kaip Jus laikotes?')\n",
    "\n",
    "print(pasisveikinimas)"
   ]
  },
  {
   "cell_type": "markdown",
   "metadata": {},
   "source": [
    "## 2 uždavinys\n",
    "\n",
    "Parašykite programą, kuri leistų vartotojui įvesti tiek skaičių, kiek jis norės. Sukurkite galimybę sustabdyti įvedimą (naudojant T/N). Programos pabaigoje išveskite visų jo įvestų skaičių sumą."
   ]
  },
  {
   "cell_type": "code",
   "execution_count": 4,
   "metadata": {},
   "outputs": [
    {
     "name": "stdout",
     "output_type": "stream",
     "text": [
      "206\n"
     ]
    }
   ],
   "source": [
    "suma = 0\n",
    "\n",
    "while True:\n",
    "    sk = input('Iveskite norima skaiciu.Noredami baigti spauskite \"T\" ')\n",
    "\n",
    "    if sk =='T':\n",
    "        break\n",
    "    else:\n",
    "        try:\n",
    "            skaicius = int(sk)\n",
    "            suma += skaicius\n",
    "        except ValueError:\n",
    "            print('Ivestis yra bloga')\n",
    "\n",
    "print(suma)"
   ]
  },
  {
   "cell_type": "markdown",
   "metadata": {},
   "source": [
    "## 3 Užduotis\n",
    "\n",
    "Leiskite vartotojui įvesti skaičių ir patikrinkite, ar jis lyginis arba nelyginis."
   ]
  },
  {
   "cell_type": "code",
   "execution_count": 71,
   "metadata": {},
   "outputs": [
    {
     "name": "stdout",
     "output_type": "stream",
     "text": [
      "Ivestas skaicius 6 yra lyginis\n"
     ]
    }
   ],
   "source": [
    "skaicius = int(input('Iveskite norima skaiciu: '))\n",
    "\n",
    "if skaicius % 2 == 0:\n",
    "    print(f'Ivestas skaicius {skaicius} yra lyginis')\n",
    "elif skaicius % 2 != 0:\n",
    "    print(f'Ivestas skaicius {skaicius} yra nelyginis')"
   ]
  },
  {
   "cell_type": "markdown",
   "metadata": {},
   "source": [
    "## 4 Užduotis\n",
    "\n",
    "Parašykite programą, kuri leidžia įvesti tris skaičius ir išspausdina didžiausią iš jų."
   ]
  },
  {
   "cell_type": "code",
   "execution_count": 12,
   "metadata": {},
   "outputs": [
    {
     "name": "stdout",
     "output_type": "stream",
     "text": [
      "Didziausias ivestas skaicius yra: 1500 \n"
     ]
    }
   ],
   "source": [
    "skaicius = int(input('Iveskite pirmaji skaiciu: '))\n",
    "skaicius1 = int(input('Iveskite antraji skaiciu: '))\n",
    "skaicius2 = int(input('Iveskite treciaji skaiciu: '))\n",
    "\n",
    "didziausias_skaicius = max(skaicius,skaicius1,skaicius2)\n",
    "\n",
    "print(f'Didziausias ivestas skaicius yra: {didziausias_skaicius} ')"
   ]
  },
  {
   "cell_type": "markdown",
   "metadata": {},
   "source": [
    "## 5 Užduotis\n",
    "\n",
    " Parašykite funkciją, kuri apverčia sąrašo tvarką (pvz., iš [1, 2, 3] turi gautis [3, 2, 1]). Į sąrašą nariai sudedami naudojant input"
   ]
  },
  {
   "cell_type": "code",
   "execution_count": 23,
   "metadata": {},
   "outputs": [
    {
     "name": "stdout",
     "output_type": "stream",
     "text": [
      "[15, 10, 5]\n"
     ]
    }
   ],
   "source": [
    "skaicius = int(input('Iveskite norima skaiciu: '))\n",
    "skaicius2 = int(input('Iveskite norima skaiciu: '))\n",
    "skaicius3 = int(input('Iveskite norima skaiciu: '))\n",
    "\n",
    "visi_skaiciai= [skaicius,skaicius2,skaicius3]\n",
    "\n",
    "visi_skaiciai.sort(reverse=True)\n",
    "\n",
    "print(visi_skaiciai)\n"
   ]
  },
  {
   "cell_type": "markdown",
   "metadata": {},
   "source": [
    "## 6 Užduotis\n",
    "\n",
    "Leiskite vartotojui įvesti kraštinės ilgį ir apskaičiuokite kvadrato plotą."
   ]
  },
  {
   "cell_type": "code",
   "execution_count": 12,
   "metadata": {},
   "outputs": [
    {
     "name": "stdout",
     "output_type": "stream",
     "text": [
      "625\n"
     ]
    }
   ],
   "source": [
    "krastine = int(input(\"Iveskite krastines ilgi: \"))\n",
    "\n",
    "plotas = krastine ** 2\n",
    "\n",
    "print(plotas)"
   ]
  },
  {
   "cell_type": "markdown",
   "metadata": {},
   "source": [
    "## 7 Užduotis\n",
    "\n",
    "Parašykite funkciją, kuri apskaičiuoja vartotojo įvesto skaičiaus faktorialą. Faktorialas apskaičiuojamas tokiu principu: 7! = 7x6x5x4x3x2x1"
   ]
  },
  {
   "cell_type": "code",
   "execution_count": 11,
   "metadata": {},
   "outputs": [
    {
     "name": "stdout",
     "output_type": "stream",
     "text": [
      "7! = 7x6x5x4x3x2x1= 5040\n"
     ]
    }
   ],
   "source": [
    "\n",
    "skaicius = int(input('Įveskite norimą skaičių: '))\n",
    "kintamasis = 1\n",
    "\n",
    "faktorialas = f'{skaicius}! = '\n",
    "\n",
    "for i in range(skaicius, 0, -1):\n",
    "    kintamasis *= i\n",
    "    faktorialas += str(i)\n",
    "    if i != 1:\n",
    "        faktorialas += 'x'\n",
    "\n",
    "\n",
    "faktorialas += f'= {kintamasis}'\n",
    "print(faktorialas)"
   ]
  },
  {
   "cell_type": "markdown",
   "metadata": {},
   "source": [
    "## 8 Užduotis\n",
    "\n",
    " Parašykite programą, kuri leidžia vartotojui įvesti tekstą ir jį išspausdina 10 kartų."
   ]
  },
  {
   "cell_type": "code",
   "execution_count": 10,
   "metadata": {},
   "outputs": [
    {
     "name": "stdout",
     "output_type": "stream",
     "text": [
      "siandien yra paskutine duomenu analitikos ir python pagrindu paskutine paskaita\n",
      "siandien yra paskutine duomenu analitikos ir python pagrindu paskutine paskaita\n",
      "siandien yra paskutine duomenu analitikos ir python pagrindu paskutine paskaita\n",
      "siandien yra paskutine duomenu analitikos ir python pagrindu paskutine paskaita\n",
      "siandien yra paskutine duomenu analitikos ir python pagrindu paskutine paskaita\n",
      "siandien yra paskutine duomenu analitikos ir python pagrindu paskutine paskaita\n",
      "siandien yra paskutine duomenu analitikos ir python pagrindu paskutine paskaita\n",
      "siandien yra paskutine duomenu analitikos ir python pagrindu paskutine paskaita\n",
      "siandien yra paskutine duomenu analitikos ir python pagrindu paskutine paskaita\n",
      "siandien yra paskutine duomenu analitikos ir python pagrindu paskutine paskaita\n"
     ]
    }
   ],
   "source": [
    "tekstas = input(\"Iveskite norima teksta: \")\n",
    "\n",
    "for _ in range(10):\n",
    "    print(tekstas)"
   ]
  },
  {
   "cell_type": "markdown",
   "metadata": {},
   "source": [
    "## 9 Užduotis\n",
    "\n",
    "Sukurkite funkciją, kuri suskaičiuoja sąrašo elementų sumą."
   ]
  },
  {
   "cell_type": "code",
   "execution_count": 9,
   "metadata": {},
   "outputs": [
    {
     "name": "stdout",
     "output_type": "stream",
     "text": [
      "345\n"
     ]
    }
   ],
   "source": [
    "sarasas = [15,10,25,45,65,85,5,95]\n",
    "\n",
    "def suma(sarasas):\n",
    "    return sum(sarasas)\n",
    "\n",
    "visu_sk_suma = suma(sarasas)\n",
    "\n",
    "print(visu_sk_suma)"
   ]
  },
  {
   "cell_type": "markdown",
   "metadata": {},
   "source": [
    "## 10 Užduotis\n",
    "\n",
    "Sukurkite programą, kuri leidžia vartotojui įvesti vardą ir amžių, tada įrašo juos į failą (.txt) kaip svečio knyga. "
   ]
  },
  {
   "cell_type": "code",
   "execution_count": null,
   "metadata": {},
   "outputs": [],
   "source": []
  },
  {
   "cell_type": "markdown",
   "metadata": {},
   "source": [
    "## 11 Užduotis\n",
    "\n",
    " Leiskite vartotojui įvesti du skaičius ir apskaičiuokite jų dalybą su liekana."
   ]
  },
  {
   "cell_type": "code",
   "execution_count": 7,
   "metadata": {},
   "outputs": [
    {
     "name": "stdout",
     "output_type": "stream",
     "text": [
      "1.0\n"
     ]
    }
   ],
   "source": [
    "skaicius = float(input('Iveskite pirmaji norima skaiciu: '))\n",
    "skaicius2 = float(input('Iveskite antraji norima skaiciu: '))\n",
    "\n",
    "dalyba_su_liekana = (skaicius % skaicius2)\n",
    "\n",
    "print(dalyba_su_liekana)"
   ]
  },
  {
   "cell_type": "markdown",
   "metadata": {},
   "source": [
    "## 12 Užduotis\n",
    "\n",
    "Parašykite funkciją, kuri suskaičiuoja teigiamų skaičių sumą sąraše."
   ]
  },
  {
   "cell_type": "code",
   "execution_count": 5,
   "metadata": {},
   "outputs": [
    {
     "name": "stdout",
     "output_type": "stream",
     "text": [
      "37\n"
     ]
    }
   ],
   "source": [
    "sarasas = [-7,2,-85,4,13,-99,-5,10,-25,8]\n",
    "\n",
    "teigiami_sk = list(filter(lambda x: x > 0, sarasas))\n",
    "\n",
    "teigiamu_sk_suma = sum(teigiami_sk)\n",
    "\n",
    "print(teigiamu_sk_suma)"
   ]
  },
  {
   "cell_type": "markdown",
   "metadata": {},
   "source": [
    "## 13 Užduotis\n",
    "\n",
    "Sukurkite funkciją, kuri išfiltruoja lyginius skaičius iš sąrašo."
   ]
  },
  {
   "cell_type": "code",
   "execution_count": 8,
   "metadata": {},
   "outputs": [
    {
     "name": "stdout",
     "output_type": "stream",
     "text": [
      "[10, 6, 4, 26, 8, 2, 48, 0, 12]\n"
     ]
    }
   ],
   "source": [
    "sarasas = [5,10,6,9,7,3,5,4,26,8,2,48,0,12]\n",
    "\n",
    "lyginiai_sk = list(filter(lambda x: x % 2 ==0,sarasas))\n",
    "\n",
    "print(lyginiai_sk)\n"
   ]
  },
  {
   "cell_type": "markdown",
   "metadata": {},
   "source": []
  }
 ],
 "metadata": {
  "kernelspec": {
   "display_name": "mokyma",
   "language": "python",
   "name": "python3"
  },
  "language_info": {
   "codemirror_mode": {
    "name": "ipython",
    "version": 3
   },
   "file_extension": ".py",
   "mimetype": "text/x-python",
   "name": "python",
   "nbconvert_exporter": "python",
   "pygments_lexer": "ipython3",
   "version": "3.12.2"
  }
 },
 "nbformat": 4,
 "nbformat_minor": 2
}
